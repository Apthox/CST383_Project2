{
 "metadata": {
  "language_info": {
   "codemirror_mode": {
    "name": "ipython",
    "version": 3
   },
   "file_extension": ".py",
   "mimetype": "text/x-python",
   "name": "python",
   "nbconvert_exporter": "python",
   "pygments_lexer": "ipython3",
   "version": "3.8.3-final"
  },
  "orig_nbformat": 2,
  "kernelspec": {
   "name": "python3",
   "display_name": "Python 3.8.3 64-bit",
   "metadata": {
    "interpreter": {
     "hash": "aee8b7b246df8f9039afb4144a1f6fd8d2ca17a180786b69acc140d282b71a49"
    }
   }
  }
 },
 "nbformat": 4,
 "nbformat_minor": 2,
 "cells": [
  {
   "cell_type": "code",
   "execution_count": 115,
   "metadata": {},
   "outputs": [],
   "source": [
    "import pandas as pd\n",
    "import numpy as np\n",
    "import seaborn as sns\n",
    "import matplotlib.pyplot as plt\n",
    "from sklearn.model_selection import train_test_split, cross_val_score\n",
    "from sklearn.linear_model import LinearRegression\n",
    "from sklearn.metrics import mean_squared_error, r2_score\n",
    "from sklearn.linear_model import LogisticRegression\n",
    "from scipy.stats import zscore\n",
    "from sklearn.metrics import confusion_matrix\n",
    "from sklearn import metrics\n",
    "from sklearn.preprocessing import PolynomialFeatures\n",
    "from sklearn.preprocessing import StandardScaler\n",
    "from sklearn.tree import export_graphviz\n",
    "from sklearn.preprocessing import LabelBinarizer\n",
    "from sklearn.tree import DecisionTreeClassifier\n",
    "from sklearn import tree\n",
    "from sklearn.tree import export_text\n",
    "from datetime import datetime"
   ]
  },
  {
   "cell_type": "code",
   "execution_count": 116,
   "metadata": {},
   "outputs": [
    {
     "output_type": "stream",
     "name": "stdout",
     "text": [
      "<class 'pandas.core.frame.DataFrame'>\nRangeIndex: 17379 entries, 0 to 17378\nData columns (total 17 columns):\n #   Column      Non-Null Count  Dtype  \n---  ------      --------------  -----  \n 0   instant     17379 non-null  int64  \n 1   dteday      17379 non-null  object \n 2   season      17379 non-null  int64  \n 3   yr          17379 non-null  int64  \n 4   mnth        17379 non-null  int64  \n 5   hr          17379 non-null  int64  \n 6   holiday     17379 non-null  int64  \n 7   weekday     17379 non-null  int64  \n 8   workingday  17379 non-null  int64  \n 9   weathersit  17379 non-null  int64  \n 10  temp        17379 non-null  float64\n 11  atemp       17379 non-null  float64\n 12  hum         17379 non-null  float64\n 13  windspeed   17379 non-null  float64\n 14  casual      17379 non-null  int64  \n 15  registered  17379 non-null  int64  \n 16  cnt         17379 non-null  int64  \ndtypes: float64(4), int64(12), object(1)\nmemory usage: 2.3+ MB\n"
     ]
    }
   ],
   "source": [
    "hour_df = pd.read_csv('../datasets/hour.csv')\n",
    "# del hour_df['dteday']\n",
    "hour_df.info()"
   ]
  },
  {
   "cell_type": "code",
   "execution_count": 117,
   "metadata": {},
   "outputs": [],
   "source": [
    "def x(r):\n",
    "  if r in [1, 2, 12]:\n",
    "    return \"winter\"\n",
    "  elif r in [3, 4, 5]:\n",
    "    return \"spring\"\n",
    "  elif r in [6, 7, 8]:\n",
    "    return \"summer\"\n",
    "  else:\n",
    "    return \"fall\"\n",
    "hour_df[\"season\"] = hour_df[\"mnth\"].apply(x)"
   ]
  },
  {
   "cell_type": "code",
   "execution_count": 118,
   "metadata": {},
   "outputs": [
    {
     "output_type": "stream",
     "name": "stdout",
     "text": [
      "0 - 100 = 0.4034\n100 - 300 = 0.3710\n300 - 500 = 0.1516\n500 - 1000 = 0.0741\nCovered Data > 1.0\n"
     ]
    },
    {
     "output_type": "execute_result",
     "data": {
      "text/plain": [
       "       instant      dteday  season  yr  mnth  hr  holiday  weekday  \\\n",
       "0            1  2011-01-01  winter   0     1   0        0        6   \n",
       "1            2  2011-01-01  winter   0     1   1        0        6   \n",
       "2            3  2011-01-01  winter   0     1   2        0        6   \n",
       "3            4  2011-01-01  winter   0     1   3        0        6   \n",
       "4            5  2011-01-01  winter   0     1   4        0        6   \n",
       "...        ...         ...     ...  ..   ...  ..      ...      ...   \n",
       "17374    17375  2012-12-31  winter   1    12  19        0        1   \n",
       "17375    17376  2012-12-31  winter   1    12  20        0        1   \n",
       "17376    17377  2012-12-31  winter   1    12  21        0        1   \n",
       "17377    17378  2012-12-31  winter   1    12  22        0        1   \n",
       "17378    17379  2012-12-31  winter   1    12  23        0        1   \n",
       "\n",
       "       workingday  weathersit  ...   atemp   hum  windspeed  casual  \\\n",
       "0               0           1  ...  0.2879  0.81     0.0000       3   \n",
       "1               0           1  ...  0.2727  0.80     0.0000       8   \n",
       "2               0           1  ...  0.2727  0.80     0.0000       5   \n",
       "3               0           1  ...  0.2879  0.75     0.0000       3   \n",
       "4               0           1  ...  0.2879  0.75     0.0000       0   \n",
       "...           ...         ...  ...     ...   ...        ...     ...   \n",
       "17374           1           2  ...  0.2576  0.60     0.1642      11   \n",
       "17375           1           2  ...  0.2576  0.60     0.1642       8   \n",
       "17376           1           1  ...  0.2576  0.60     0.1642       7   \n",
       "17377           1           1  ...  0.2727  0.56     0.1343      13   \n",
       "17378           1           1  ...  0.2727  0.65     0.1343      12   \n",
       "\n",
       "       registered  cnt  0-100  100-300  300-500  500-1000  \n",
       "0              13   16      1        0        0         0  \n",
       "1              32   40      1        0        0         0  \n",
       "2              27   32      1        0        0         0  \n",
       "3              10   13      1        0        0         0  \n",
       "4               1    1      1        0        0         0  \n",
       "...           ...  ...    ...      ...      ...       ...  \n",
       "17374         108  119      0        1        0         0  \n",
       "17375          81   89      1        0        0         0  \n",
       "17376          83   90      1        0        0         0  \n",
       "17377          48   61      1        0        0         0  \n",
       "17378          37   49      1        0        0         0  \n",
       "\n",
       "[17379 rows x 21 columns]"
      ],
      "text/html": "<div>\n<style scoped>\n    .dataframe tbody tr th:only-of-type {\n        vertical-align: middle;\n    }\n\n    .dataframe tbody tr th {\n        vertical-align: top;\n    }\n\n    .dataframe thead th {\n        text-align: right;\n    }\n</style>\n<table border=\"1\" class=\"dataframe\">\n  <thead>\n    <tr style=\"text-align: right;\">\n      <th></th>\n      <th>instant</th>\n      <th>dteday</th>\n      <th>season</th>\n      <th>yr</th>\n      <th>mnth</th>\n      <th>hr</th>\n      <th>holiday</th>\n      <th>weekday</th>\n      <th>workingday</th>\n      <th>weathersit</th>\n      <th>...</th>\n      <th>atemp</th>\n      <th>hum</th>\n      <th>windspeed</th>\n      <th>casual</th>\n      <th>registered</th>\n      <th>cnt</th>\n      <th>0-100</th>\n      <th>100-300</th>\n      <th>300-500</th>\n      <th>500-1000</th>\n    </tr>\n  </thead>\n  <tbody>\n    <tr>\n      <th>0</th>\n      <td>1</td>\n      <td>2011-01-01</td>\n      <td>winter</td>\n      <td>0</td>\n      <td>1</td>\n      <td>0</td>\n      <td>0</td>\n      <td>6</td>\n      <td>0</td>\n      <td>1</td>\n      <td>...</td>\n      <td>0.2879</td>\n      <td>0.81</td>\n      <td>0.0000</td>\n      <td>3</td>\n      <td>13</td>\n      <td>16</td>\n      <td>1</td>\n      <td>0</td>\n      <td>0</td>\n      <td>0</td>\n    </tr>\n    <tr>\n      <th>1</th>\n      <td>2</td>\n      <td>2011-01-01</td>\n      <td>winter</td>\n      <td>0</td>\n      <td>1</td>\n      <td>1</td>\n      <td>0</td>\n      <td>6</td>\n      <td>0</td>\n      <td>1</td>\n      <td>...</td>\n      <td>0.2727</td>\n      <td>0.80</td>\n      <td>0.0000</td>\n      <td>8</td>\n      <td>32</td>\n      <td>40</td>\n      <td>1</td>\n      <td>0</td>\n      <td>0</td>\n      <td>0</td>\n    </tr>\n    <tr>\n      <th>2</th>\n      <td>3</td>\n      <td>2011-01-01</td>\n      <td>winter</td>\n      <td>0</td>\n      <td>1</td>\n      <td>2</td>\n      <td>0</td>\n      <td>6</td>\n      <td>0</td>\n      <td>1</td>\n      <td>...</td>\n      <td>0.2727</td>\n      <td>0.80</td>\n      <td>0.0000</td>\n      <td>5</td>\n      <td>27</td>\n      <td>32</td>\n      <td>1</td>\n      <td>0</td>\n      <td>0</td>\n      <td>0</td>\n    </tr>\n    <tr>\n      <th>3</th>\n      <td>4</td>\n      <td>2011-01-01</td>\n      <td>winter</td>\n      <td>0</td>\n      <td>1</td>\n      <td>3</td>\n      <td>0</td>\n      <td>6</td>\n      <td>0</td>\n      <td>1</td>\n      <td>...</td>\n      <td>0.2879</td>\n      <td>0.75</td>\n      <td>0.0000</td>\n      <td>3</td>\n      <td>10</td>\n      <td>13</td>\n      <td>1</td>\n      <td>0</td>\n      <td>0</td>\n      <td>0</td>\n    </tr>\n    <tr>\n      <th>4</th>\n      <td>5</td>\n      <td>2011-01-01</td>\n      <td>winter</td>\n      <td>0</td>\n      <td>1</td>\n      <td>4</td>\n      <td>0</td>\n      <td>6</td>\n      <td>0</td>\n      <td>1</td>\n      <td>...</td>\n      <td>0.2879</td>\n      <td>0.75</td>\n      <td>0.0000</td>\n      <td>0</td>\n      <td>1</td>\n      <td>1</td>\n      <td>1</td>\n      <td>0</td>\n      <td>0</td>\n      <td>0</td>\n    </tr>\n    <tr>\n      <th>...</th>\n      <td>...</td>\n      <td>...</td>\n      <td>...</td>\n      <td>...</td>\n      <td>...</td>\n      <td>...</td>\n      <td>...</td>\n      <td>...</td>\n      <td>...</td>\n      <td>...</td>\n      <td>...</td>\n      <td>...</td>\n      <td>...</td>\n      <td>...</td>\n      <td>...</td>\n      <td>...</td>\n      <td>...</td>\n      <td>...</td>\n      <td>...</td>\n      <td>...</td>\n      <td>...</td>\n    </tr>\n    <tr>\n      <th>17374</th>\n      <td>17375</td>\n      <td>2012-12-31</td>\n      <td>winter</td>\n      <td>1</td>\n      <td>12</td>\n      <td>19</td>\n      <td>0</td>\n      <td>1</td>\n      <td>1</td>\n      <td>2</td>\n      <td>...</td>\n      <td>0.2576</td>\n      <td>0.60</td>\n      <td>0.1642</td>\n      <td>11</td>\n      <td>108</td>\n      <td>119</td>\n      <td>0</td>\n      <td>1</td>\n      <td>0</td>\n      <td>0</td>\n    </tr>\n    <tr>\n      <th>17375</th>\n      <td>17376</td>\n      <td>2012-12-31</td>\n      <td>winter</td>\n      <td>1</td>\n      <td>12</td>\n      <td>20</td>\n      <td>0</td>\n      <td>1</td>\n      <td>1</td>\n      <td>2</td>\n      <td>...</td>\n      <td>0.2576</td>\n      <td>0.60</td>\n      <td>0.1642</td>\n      <td>8</td>\n      <td>81</td>\n      <td>89</td>\n      <td>1</td>\n      <td>0</td>\n      <td>0</td>\n      <td>0</td>\n    </tr>\n    <tr>\n      <th>17376</th>\n      <td>17377</td>\n      <td>2012-12-31</td>\n      <td>winter</td>\n      <td>1</td>\n      <td>12</td>\n      <td>21</td>\n      <td>0</td>\n      <td>1</td>\n      <td>1</td>\n      <td>1</td>\n      <td>...</td>\n      <td>0.2576</td>\n      <td>0.60</td>\n      <td>0.1642</td>\n      <td>7</td>\n      <td>83</td>\n      <td>90</td>\n      <td>1</td>\n      <td>0</td>\n      <td>0</td>\n      <td>0</td>\n    </tr>\n    <tr>\n      <th>17377</th>\n      <td>17378</td>\n      <td>2012-12-31</td>\n      <td>winter</td>\n      <td>1</td>\n      <td>12</td>\n      <td>22</td>\n      <td>0</td>\n      <td>1</td>\n      <td>1</td>\n      <td>1</td>\n      <td>...</td>\n      <td>0.2727</td>\n      <td>0.56</td>\n      <td>0.1343</td>\n      <td>13</td>\n      <td>48</td>\n      <td>61</td>\n      <td>1</td>\n      <td>0</td>\n      <td>0</td>\n      <td>0</td>\n    </tr>\n    <tr>\n      <th>17378</th>\n      <td>17379</td>\n      <td>2012-12-31</td>\n      <td>winter</td>\n      <td>1</td>\n      <td>12</td>\n      <td>23</td>\n      <td>0</td>\n      <td>1</td>\n      <td>1</td>\n      <td>1</td>\n      <td>...</td>\n      <td>0.2727</td>\n      <td>0.65</td>\n      <td>0.1343</td>\n      <td>12</td>\n      <td>37</td>\n      <td>49</td>\n      <td>1</td>\n      <td>0</td>\n      <td>0</td>\n      <td>0</td>\n    </tr>\n  </tbody>\n</table>\n<p>17379 rows × 21 columns</p>\n</div>"
     },
     "metadata": {},
     "execution_count": 118
    }
   ],
   "source": [
    "total_perc = 0\n",
    "ranges = [0, 100, 300, 500, 1000]\n",
    "cols = []\n",
    "for idx, val in enumerate(ranges):\n",
    "    if (val == ranges[len(ranges) - 1]):\n",
    "        break;\n",
    "\n",
    "    x1 = val\n",
    "    x2 = ranges[idx + 1]\n",
    "\n",
    "    val = ((hour_df['cnt'] >= x1) & (hour_df['cnt'] < x2)).sum()\n",
    "    val = val / len(hour_df)\n",
    "\n",
    "    col=\"%d-%d\" % (x1, x2)\n",
    "    cols.append(col)\n",
    "\n",
    "    print(\"%d - %d = %.4f\" % (x1, x2, val))\n",
    "    total_perc += val\n",
    "\n",
    "    hour_df[\"%d-%d\" % (x1, x2)] = ((hour_df['cnt'] >= x1) & (hour_df['cnt'] < x2)).astype(int)\n",
    "\n",
    "    \n",
    "print(\"Covered Data > \" + str(total_perc))\n",
    "hour_df"
   ]
  },
  {
   "cell_type": "code",
   "execution_count": 119,
   "metadata": {},
   "outputs": [],
   "source": [
    "def print_conf_mtx(y_true, y_pred, classes=None):\n",
    "    \"\"\" Print a confusion matrix (two classes only). \"\"\"\n",
    "    \n",
    "    if not classes:\n",
    "        classes = ['neg', 'pos']\n",
    "   \t \n",
    "    # formatting\n",
    "    max_class_len = max([len(s) for s in classes])\n",
    "    m = max(max_class_len, len('predicted')//2 + 1)\n",
    "    n = max(len('actual')+1, max_class_len)\n",
    "    left   \t= '{:<10s}'.replace('10',str(n))\n",
    "    right  \t= '{:>10s}'.replace('10',str(m))\n",
    "    big_center = '{:^20s}'.replace('20',str(m*2))\n",
    "    \n",
    "    cm = confusion_matrix(y_test, y_pred)\n",
    "    print((left+big_center).format('', 'predicted'))\n",
    "    print((left+right+right).format('actual', classes[0], classes[1]))\n",
    "    print((left+right+right).format(classes[0], str(cm[0,0]), str(cm[0,1])))\n",
    "    print((left+right+right).format(classes[1], str(cm[1,0]), str(cm[1,1])))"
   ]
  },
  {
   "cell_type": "code",
   "execution_count": 120,
   "metadata": {},
   "outputs": [],
   "source": [
    "hour_df[\"time\"] = hour_df.apply(lambda row: (datetime.strptime(row[\"dteday\"] + \":\" + str(row[\"hr\"]), '%Y-%m-%d:%H')).timestamp(), axis=1)\n",
    "hour_df = hour_df.drop(columns=[\"dteday\", \"atemp\", \"registered\", \"casual\", \"holiday\", \"instant\", \"cnt\"])\n",
    "hour_df = pd.get_dummies(data = hour_df, columns = [\"season\", \"weathersit\", \"weekday\"])"
   ]
  },
  {
   "cell_type": "code",
   "execution_count": 121,
   "metadata": {},
   "outputs": [
    {
     "output_type": "stream",
     "name": "stdout",
     "text": [
      "['0-100', '100-300', '300-500', '500-1000']\n['yr', 'mnth', 'hr', 'workingday', 'temp', 'hum', 'windspeed', 'season_fall', 'season_spring', 'season_summer', 'season_winter', 'weathersit_1', 'weathersit_2', 'weathersit_3', 'weathersit_4', 'weekday_0', 'weekday_1', 'weekday_2', 'weekday_3', 'weekday_4', 'weekday_5', 'weekday_6']\n"
     ]
    }
   ],
   "source": [
    "targets = cols\n",
    "print(targets)\n",
    "\n",
    "# hour_df.columns.apply(lambda col: print(col))\n",
    "predictors = [col for col in hour_df.columns if not (col in cols)]\n",
    "print(predictors)\n",
    "\n",
    "X = hour_df[predictors].values\n",
    "y = hour_df[targets].values\n",
    "X_s = zscore(X)\n",
    "\n",
    "X_train, X_test, y_trains, y_tests = train_test_split(X_s, y, test_size=0.30, random_state=42)"
   ]
  },
  {
   "cell_type": "code",
   "execution_count": 122,
   "metadata": {
    "tags": []
   },
   "outputs": [
    {
     "output_type": "stream",
     "name": "stdout",
     "text": [
      "0-100\n",
      "Accuracy > 0.8837744533947065\n",
      "       predicted \n",
      "actual   neg  pos\n",
      "neg     2855  215\n",
      "pos      391 1753\n",
      "\n",
      "100-300\n",
      "Accuracy > 0.74530111238972\n",
      "       predicted \n",
      "actual   neg  pos\n",
      "neg     2865  424\n",
      "pos      904 1021\n",
      "\n",
      "300-500\n",
      "Accuracy > 0.8505945531261987\n",
      "       predicted \n",
      "actual   neg  pos\n",
      "neg     4435    0\n",
      "pos      779    0\n",
      "\n",
      "500-1000\n",
      "Accuracy > 0.9491752972765631\n",
      "       predicted \n",
      "actual   neg  pos\n",
      "neg     4777   71\n",
      "pos      194  172\n",
      "\n"
     ]
    }
   ],
   "source": [
    "for i in range(len(ranges) - 1):\n",
    "    y_train = y_trains[:,i]\n",
    "    y_test = y_tests[:,i]\n",
    "    print(targets[i])\n",
    "    clf = DecisionTreeClassifier(max_depth=5)\n",
    "    clf.fit(X_train,y_train)\n",
    "    y_predict = clf.predict(X_test)\n",
    "    accuracy = (y_predict == y_test).mean()\n",
    "    print('Accuracy > ' + str(accuracy))\n",
    "    r = export_text(clf, feature_names=predictors)\n",
    "    # print(r)\n",
    "    print_conf_mtx(y_train, y_predict)\n",
    "    print('')"
   ]
  }
 ]
}